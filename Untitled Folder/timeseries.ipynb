{
 "cells": [
  {
   "cell_type": "code",
   "execution_count": 1,
   "metadata": {},
   "outputs": [],
   "source": [
    "import pandas as pd\n",
    "import numpy as np"
   ]
  },
  {
   "cell_type": "code",
   "execution_count": 9,
   "metadata": {},
   "outputs": [
    {
     "data": {
      "text/plain": [
       "2020-01-31    0.784866\n",
       "2020-02-29   -1.607410\n",
       "2020-03-31   -0.304309\n",
       "2020-04-30    2.153274\n",
       "2020-05-31   -0.916296\n",
       "2020-06-30   -0.976234\n",
       "2020-07-31   -0.189530\n",
       "2020-08-31    0.721296\n",
       "2020-09-30    1.311595\n",
       "2020-10-31    1.106222\n",
       "Freq: M, dtype: float64"
      ]
     },
     "execution_count": 9,
     "metadata": {},
     "output_type": "execute_result"
    }
   ],
   "source": [
    "rng = pd.date_range('2020-01-01',periods = 10,freq = 'M')\n",
    "rng\n",
    "ts = pd.Series(np.random.randn(len(rng)),index = rng)\n",
    "ts\n",
    "# date_range(開始時間,共幾期,頻率)"
   ]
  },
  {
   "cell_type": "code",
   "execution_count": 15,
   "metadata": {},
   "outputs": [
    {
     "data": {
      "text/plain": [
       "2020-01-31    0.784866\n",
       "2020-02-29   -1.607410\n",
       "2020-03-31   -0.304309\n",
       "2020-04-30    2.153274\n",
       "2020-05-31   -0.916296\n",
       "2020-06-30   -0.976234\n",
       "2020-07-31   -0.189530\n",
       "2020-08-31    0.721296\n",
       "2020-09-30    1.311595\n",
       "2020-10-31    1.106222\n",
       "Freq: D, dtype: float64"
      ]
     },
     "execution_count": 15,
     "metadata": {},
     "output_type": "execute_result"
    }
   ],
   "source": [
    "ts.to_period(freq = 'D')\n",
    "# 修改頻率使用to_period，一開始已經設定好頻率，只是改變呈現的形式?"
   ]
  },
  {
   "cell_type": "code",
   "execution_count": 20,
   "metadata": {},
   "outputs": [
    {
     "data": {
      "text/plain": [
       "2020-02-29   -1.607410\n",
       "2020-03-31   -0.304309\n",
       "2020-04-30    2.153274\n",
       "2020-05-31   -0.916296\n",
       "2020-06-30   -0.976234\n",
       "Freq: M, dtype: float64"
      ]
     },
     "execution_count": 20,
     "metadata": {},
     "output_type": "execute_result"
    }
   ],
   "source": [
    "ts['2020-02':'2020-06']"
   ]
  },
  {
   "cell_type": "code",
   "execution_count": 27,
   "metadata": {},
   "outputs": [],
   "source": [
    "str_date = '2020.01.01'\n",
    "date = pd.Timestamp(2020,10,10)"
   ]
  },
  {
   "cell_type": "code",
   "execution_count": 28,
   "metadata": {},
   "outputs": [
    {
     "data": {
      "text/plain": [
       "('2020.01.01', str)"
      ]
     },
     "execution_count": 28,
     "metadata": {},
     "output_type": "execute_result"
    }
   ],
   "source": [
    "str_date,type(str_date)\n",
    "# 純字串"
   ]
  },
  {
   "cell_type": "code",
   "execution_count": 29,
   "metadata": {},
   "outputs": [
    {
     "data": {
      "text/plain": [
       "(Timestamp('2020-10-10 00:00:00'), pandas._libs.tslibs.timestamps.Timestamp)"
      ]
     },
     "execution_count": 29,
     "metadata": {},
     "output_type": "execute_result"
    }
   ],
   "source": [
    "date,type(date)\n",
    "# 時間序列必須要使用timestamp設定"
   ]
  },
  {
   "cell_type": "code",
   "execution_count": 31,
   "metadata": {},
   "outputs": [
    {
     "data": {
      "text/plain": [
       "('2020-10', str)"
      ]
     },
     "execution_count": 31,
     "metadata": {},
     "output_type": "execute_result"
    }
   ],
   "source": [
    "date2str = date.strftime('%Y-%m')\n",
    "date2str,type(date2str)\n",
    "# 時間轉字串，用資料.strftime('放年月日')"
   ]
  },
  {
   "cell_type": "code",
   "execution_count": 34,
   "metadata": {},
   "outputs": [
    {
     "data": {
      "text/plain": [
       "(Timestamp('2020-01-01 00:00:00'), pandas._libs.tslibs.timestamps.Timestamp)"
      ]
     },
     "execution_count": 34,
     "metadata": {},
     "output_type": "execute_result"
    }
   ],
   "source": [
    "str2date = pd.to_datetime(str_date)\n",
    "str2date,type(str2date)\n",
    "# 字串轉時間，用to_datetime(資料)"
   ]
  },
  {
   "cell_type": "code",
   "execution_count": 33,
   "metadata": {},
   "outputs": [
    {
     "data": {
      "text/plain": [
       "2020-01-31    0.784866\n",
       "2020-02-29   -1.607410\n",
       "2020-03-31   -0.304309\n",
       "2020-04-30    2.153274\n",
       "2020-05-31   -0.916296\n",
       "2020-06-30   -0.976234\n",
       "2020-07-31   -0.189530\n",
       "2020-08-31    0.721296\n",
       "2020-09-30    1.311595\n",
       "2020-10-31    1.106222\n",
       "Freq: M, dtype: float64"
      ]
     },
     "execution_count": 33,
     "metadata": {},
     "output_type": "execute_result"
    }
   ],
   "source": [
    "ts"
   ]
  },
  {
   "cell_type": "code",
   "execution_count": 36,
   "metadata": {},
   "outputs": [
    {
     "data": {
      "text/plain": [
       "2019-10-31    0.784866\n",
       "2019-11-30   -1.607410\n",
       "2019-12-31   -0.304309\n",
       "2020-01-31    2.153274\n",
       "2020-02-29   -0.916296\n",
       "2020-03-31   -0.976234\n",
       "2020-04-30   -0.189530\n",
       "2020-05-31    0.721296\n",
       "2020-06-30    1.311595\n",
       "2020-07-31    1.106222\n",
       "Freq: M, dtype: float64"
      ]
     },
     "execution_count": 36,
     "metadata": {},
     "output_type": "execute_result"
    }
   ],
   "source": [
    "ts.shift(-3,freq = 'M')\n",
    "# shift可將時間軸往前(正的數字)，或往後(負的數字)，series/dataframe皆可使用"
   ]
  },
  {
   "cell_type": "code",
   "execution_count": 44,
   "metadata": {},
   "outputs": [
    {
     "name": "stdout",
     "output_type": "stream",
     "text": [
      "0\n",
      "10\n",
      "41\n",
      "Saturday\n"
     ]
    }
   ],
   "source": [
    "print(date.hour)\n",
    "print(date.day)        #該月第幾天\n",
    "print(date.weekofyear) # 第幾周\n",
    "print(date.day_name()) # 禮拜幾"
   ]
  },
  {
   "cell_type": "code",
   "execution_count": 46,
   "metadata": {},
   "outputs": [
    {
     "data": {
      "text/plain": [
       "Timedelta('-21 days +00:00:00')"
      ]
     },
     "execution_count": 46,
     "metadata": {},
     "output_type": "execute_result"
    }
   ],
   "source": [
    "date1 = pd.Timestamp(2020,10,10) # 要用逗號分隔\n",
    "date2 = pd.Timestamp(2020,10,31)\n",
    "date1-date2\n",
    "# 時間可用加減法算差距"
   ]
  },
  {
   "cell_type": "code",
   "execution_count": 47,
   "metadata": {},
   "outputs": [
    {
     "data": {
      "text/plain": [
       "Timestamp('2020-10-11 00:00:00')"
      ]
     },
     "execution_count": 47,
     "metadata": {},
     "output_type": "execute_result"
    }
   ],
   "source": [
    "date1 + pd.Timedelta(days = 1)\n",
    "# 也可以利用時間差做計算"
   ]
  },
  {
   "cell_type": "code",
   "execution_count": 52,
   "metadata": {},
   "outputs": [
    {
     "name": "stdout",
     "output_type": "stream",
     "text": [
      "Tuesday\n",
      "Saturday\n"
     ]
    }
   ],
   "source": [
    "# pd.offsets.BDay()代表business day\n",
    "# 用*代表有幾天\n",
    "two_bday = 2*pd.offsets.BDay()\n",
    "date1_add_2bday = date1+two_bday\n",
    "print(date1_add_2bday.day_name())\n",
    "print(date1.day_name())"
   ]
  },
  {
   "cell_type": "code",
   "execution_count": 53,
   "metadata": {},
   "outputs": [
    {
     "data": {
      "text/plain": [
       "2018Q1    1.0\n",
       "2018Q2    NaN\n",
       "2018Q3    NaN\n",
       "2018Q4    NaN\n",
       "2019Q1    2.0\n",
       "2019Q2    NaN\n",
       "2019Q3    NaN\n",
       "2019Q4    NaN\n",
       "Freq: Q-DEC, dtype: float64"
      ]
     },
     "execution_count": 53,
     "metadata": {},
     "output_type": "execute_result"
    }
   ],
   "source": [
    "s = pd.Series([1, 2], index=pd.period_range('2018-01-01',freq='Y',periods=2))\n",
    "p\n",
    "s.resample('Q').asfreq()\n",
    "# 用resample轉換頻率\n"
   ]
  },
  {
   "cell_type": "code",
   "execution_count": null,
   "metadata": {},
   "outputs": [],
   "source": []
  }
 ],
 "metadata": {
  "kernelspec": {
   "display_name": "Python 3",
   "language": "python",
   "name": "python3"
  },
  "language_info": {
   "codemirror_mode": {
    "name": "ipython",
    "version": 3
   },
   "file_extension": ".py",
   "mimetype": "text/x-python",
   "name": "python",
   "nbconvert_exporter": "python",
   "pygments_lexer": "ipython3",
   "version": "3.8.5"
  }
 },
 "nbformat": 4,
 "nbformat_minor": 4
}
