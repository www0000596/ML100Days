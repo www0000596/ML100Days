{
 "cells": [
  {
   "cell_type": "code",
   "execution_count": 1,
   "metadata": {},
   "outputs": [],
   "source": [
    "# Q1：吃減肥藥能在一個月內瘦超過十公斤，研究人員想推翻第四台廣告業者的說法，請試著寫出 H0 與 H1。\n",
    "# H0 : 吃減肥藥不能在一個月內瘦超過十公斤\n",
    "# H1 : 吃減肥藥能在一個月內受超過十公斤"
   ]
  },
  {
   "cell_type": "code",
   "execution_count": null,
   "metadata": {},
   "outputs": [],
   "source": [
    "# Q2：一位速食店店長認為其品牌在市場之佔有率至多為 12%，於是該店長進行一個市場調查\n",
    "# 一共訪問了 3000 位消費者，其中有311位表示喜歡該品牌，請試著寫出 H0 與 H1。\n",
    "# H0 : 該品牌市占率高於12%\n",
    "# H1 : 該品牌市占率至多12%"
   ]
  }
 ],
 "metadata": {
  "kernelspec": {
   "display_name": "Python 3",
   "language": "python",
   "name": "python3"
  },
  "language_info": {
   "codemirror_mode": {
    "name": "ipython",
    "version": 3
   },
   "file_extension": ".py",
   "mimetype": "text/x-python",
   "name": "python",
   "nbconvert_exporter": "python",
   "pygments_lexer": "ipython3",
   "version": "3.8.5"
  }
 },
 "nbformat": 4,
 "nbformat_minor": 4
}
