{
 "cells": [
  {
   "cell_type": "code",
   "execution_count": 1,
   "metadata": {},
   "outputs": [],
   "source": [
    "# 在課堂中，檢定 H0：μ ≦ 0，H1：μ > 0，假設在 H0 為真下，分配為 N(0,1)，H1為真下，分配為N(2.1)。\n",
    "# Q1: 假設 𝑋 ̅>2，拒絕 𝐻_0，𝛼 會變大/變小? 𝛽 會變大/變小?\n",
    "# 𝛼變小，𝛽 變大"
   ]
  },
  {
   "cell_type": "code",
   "execution_count": 2,
   "metadata": {},
   "outputs": [],
   "source": [
    "# Q2: 假設 𝑋 ̅>0.2，拒絕 𝐻_0，𝛼 會變大/變小? 𝛽 會變大/變小?\n",
    "# 𝛼 變大，𝛽 變小"
   ]
  },
  {
   "cell_type": "code",
   "execution_count": null,
   "metadata": {},
   "outputs": [],
   "source": [
    "# Q3: 𝛼 和 𝛽 有關聯性?\n",
    "# 兩者成反關係"
   ]
  }
 ],
 "metadata": {
  "kernelspec": {
   "display_name": "Python 3",
   "language": "python",
   "name": "python3"
  },
  "language_info": {
   "codemirror_mode": {
    "name": "ipython",
    "version": 3
   },
   "file_extension": ".py",
   "mimetype": "text/x-python",
   "name": "python",
   "nbconvert_exporter": "python",
   "pygments_lexer": "ipython3",
   "version": "3.8.5"
  }
 },
 "nbformat": 4,
 "nbformat_minor": 4
}
