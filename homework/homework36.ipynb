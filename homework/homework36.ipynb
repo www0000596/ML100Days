{
 "cells": [
  {
   "cell_type": "code",
   "execution_count": 1,
   "metadata": {},
   "outputs": [],
   "source": [
    "# 今天課程中以一個案例，說明資料分析的流程與探索性分析，是否對於課程中一開始的問題，更有想法了?!\n",
    "# Q1: 哪一個問題不適合用資料科學解決?\n",
    "# Q2: 以你的角度來分析，為什麼這樣的問題，較不適合用資料來解決?\n",
    "# 將答案寫在論壇中，大家一起互相討論激盪。"
   ]
  },
  {
   "cell_type": "code",
   "execution_count": null,
   "metadata": {},
   "outputs": [],
   "source": [
    "# 挑選 Mr./Ms. Right\n",
    "# 顧客下次會買哪些東西？\n",
    "# 半導體的良率預測？\n",
    "# Q1 : 挑選 Mr./Ms. Right\n",
    "# Q2 : 相對第二、三個問題，第一個問題所需要的變數是很主觀的，每個人的條件都不同，而且也非常廣泛，身高、體重、星座等，個性這些事很難用數據去定義的\n",
    "# 而客戶買商品的資料以及產品的良率都是有紀錄且可以被計算的"
   ]
  }
 ],
 "metadata": {
  "kernelspec": {
   "display_name": "Python 3",
   "language": "python",
   "name": "python3"
  },
  "language_info": {
   "codemirror_mode": {
    "name": "ipython",
    "version": 3
   },
   "file_extension": ".py",
   "mimetype": "text/x-python",
   "name": "python",
   "nbconvert_exporter": "python",
   "pygments_lexer": "ipython3",
   "version": "3.8.5"
  }
 },
 "nbformat": 4,
 "nbformat_minor": 4
}
