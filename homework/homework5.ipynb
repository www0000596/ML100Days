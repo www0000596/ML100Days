{
 "cells": [
  {
   "cell_type": "code",
   "execution_count": 1,
   "metadata": {},
   "outputs": [],
   "source": [
    "import numpy as np"
   ]
  },
  {
   "cell_type": "code",
   "execution_count": 11,
   "metadata": {},
   "outputs": [],
   "source": [
    "english_score = np.array([55,89,76,65,48,70])\n",
    "math_score = np.array([60,85,60,68,np.nan,60])\n",
    "chinese_score = np.array([65,90,82,72,66,77])"
   ]
  },
  {
   "cell_type": "code",
   "execution_count": 3,
   "metadata": {},
   "outputs": [
    {
     "name": "stdout",
     "output_type": "stream",
     "text": [
      "67.16666666666667\n",
      "89\n",
      "48\n"
     ]
    }
   ],
   "source": [
    "#1. 請計算各科成績平均、最大值、最小值、標準差，其中數學缺一筆資料可忽略?\n",
    "##英文\n",
    "mean_e = np.mean(english_score)\n",
    "print(mean_e)\n",
    "max_e = np.amax(english_score)\n",
    "print(max_e)\n",
    "min_e = np.amin(english_score)\n",
    "print(min_e)"
   ]
  },
  {
   "cell_type": "code",
   "execution_count": 5,
   "metadata": {},
   "outputs": [
    {
     "name": "stdout",
     "output_type": "stream",
     "text": [
      "66.6\n",
      "85.0\n",
      "60.0\n"
     ]
    }
   ],
   "source": [
    "##數學\n",
    "mean_m = np.nanmean(math_score)\n",
    "print(mean_m)\n",
    "max_m = np.nanmax(math_score)\n",
    "print(max_m)\n",
    "min_m = np.nanmin(math_score)\n",
    "print(min_m)"
   ]
  },
  {
   "cell_type": "code",
   "execution_count": 6,
   "metadata": {},
   "outputs": [
    {
     "name": "stdout",
     "output_type": "stream",
     "text": [
      "75.33333333333333\n",
      "90\n",
      "65\n"
     ]
    }
   ],
   "source": [
    "##國文\n",
    "#1. 請計算各科成績平均、最大值、最小值、標準差，其中數學缺一筆資料可忽略?\n",
    "##英文\n",
    "mean_c = np.mean(chinese_score)\n",
    "print(mean_c)\n",
    "max_c = np.amax(chinese_score)\n",
    "print(max_c)\n",
    "min_c = np.amin(chinese_score)\n",
    "print(min_c)"
   ]
  },
  {
   "cell_type": "code",
   "execution_count": 15,
   "metadata": {},
   "outputs": [
    {
     "name": "stdout",
     "output_type": "stream",
     "text": [
      "64.66666666666667\n",
      "85.0\n",
      "55.0\n"
     ]
    }
   ],
   "source": [
    "#2. 第五位同學補考數學後成績為55，請計算補考後數學成績平均、最大值、最小值、標準\n",
    "math_score[4] = 55\n",
    "mean_m = np.mean(math_score)\n",
    "print(mean_m)\n",
    "max_m = np.amax(math_score)\n",
    "print(max_m)\n",
    "min_m = np.amin(math_score)\n",
    "print(min_m)"
   ]
  },
  {
   "cell_type": "code",
   "execution_count": 16,
   "metadata": {},
   "outputs": [
    {
     "data": {
      "text/plain": [
       "array([[1.        , 0.74056803, 0.97792828],\n",
       "       [0.74056803, 1.        , 0.7855563 ],\n",
       "       [0.97792828, 0.7855563 , 1.        ]])"
      ]
     },
     "execution_count": 16,
     "metadata": {},
     "output_type": "execute_result"
    }
   ],
   "source": [
    "#3. 用補考後資料找出與國文成績相關係數最高的學科?\n",
    "np.corrcoef([chinese_score,math_score,english_score])\n",
    "##矩陣第三行(列)為國文與英文成績的相關係數，大於國文與數學成績的相關係數"
   ]
  },
  {
   "cell_type": "code",
   "execution_count": null,
   "metadata": {},
   "outputs": [],
   "source": []
  }
 ],
 "metadata": {
  "kernelspec": {
   "display_name": "Python 3",
   "language": "python",
   "name": "python3"
  },
  "language_info": {
   "codemirror_mode": {
    "name": "ipython",
    "version": 3
   },
   "file_extension": ".py",
   "mimetype": "text/x-python",
   "name": "python",
   "nbconvert_exporter": "python",
   "pygments_lexer": "ipython3",
   "version": "3.8.5"
  }
 },
 "nbformat": 4,
 "nbformat_minor": 4
}
