{
 "cells": [
  {
   "cell_type": "code",
   "execution_count": 1,
   "metadata": {},
   "outputs": [
    {
     "name": "stdout",
     "output_type": "stream",
     "text": [
      "0.23.2\n",
      "1.1.3\n"
     ]
    },
    {
     "name": "stderr",
     "output_type": "stream",
     "text": [
      "<frozen importlib._bootstrap>:219: RuntimeWarning: numpy.ufunc size changed, may indicate binary incompatibility. Expected 192 from C header, got 216 from PyObject\n",
      "<frozen importlib._bootstrap>:219: RuntimeWarning: numpy.ufunc size changed, may indicate binary incompatibility. Expected 192 from C header, got 216 from PyObject\n"
     ]
    }
   ],
   "source": [
    "# library\n",
    "import matplotlib.pyplot as plt\n",
    "import numpy as np\n",
    "import pandas as pd\n",
    "from scipy import stats\n",
    "import math\n",
    "import statistics\n",
    "import seaborn as sns\n",
    "from IPython.display import display\n",
    "import sklearn\n",
    "print(sklearn.__version__)\n",
    "#如果只有 0.19 記得要更新至 最新版本\n",
    "print(pd.__version__)\n",
    "%matplotlib inline\n",
    "\n",
    "\n",
    "\n",
    "\n",
    "# 特徵選取會用到的函數\n",
    "from sklearn.feature_selection import VarianceThreshold\n",
    "from sklearn import preprocessing\n",
    "\n",
    "from sklearn.datasets import make_friedman1\n",
    "from sklearn.feature_selection import RFE\n",
    "from sklearn.svm import SVC"
   ]
  },
  {
   "cell_type": "code",
   "execution_count": 36,
   "metadata": {},
   "outputs": [
    {
     "name": "stdout",
     "output_type": "stream",
     "text": [
      "<class 'pandas.core.frame.DataFrame'>\n",
      "RangeIndex: 891 entries, 0 to 890\n",
      "Data columns (total 12 columns):\n",
      " #   Column       Non-Null Count  Dtype  \n",
      "---  ------       --------------  -----  \n",
      " 0   PassengerId  891 non-null    int64  \n",
      " 1   Survived     891 non-null    int64  \n",
      " 2   Pclass       891 non-null    int64  \n",
      " 3   Name         891 non-null    object \n",
      " 4   Sex          891 non-null    object \n",
      " 5   Age          714 non-null    float64\n",
      " 6   SibSp        891 non-null    int64  \n",
      " 7   Parch        891 non-null    int64  \n",
      " 8   Ticket       891 non-null    object \n",
      " 9   Fare         891 non-null    float64\n",
      " 10  Cabin        204 non-null    object \n",
      " 11  Embarked     889 non-null    object \n",
      "dtypes: float64(2), int64(5), object(5)\n",
      "memory usage: 83.7+ KB\n",
      "None\n"
     ]
    }
   ],
   "source": [
    "df_train = pd.read_csv(\"Titanic_train.csv\")\n",
    "print(df_train.info())"
   ]
  },
  {
   "cell_type": "code",
   "execution_count": 37,
   "metadata": {},
   "outputs": [
    {
     "name": "stdout",
     "output_type": "stream",
     "text": [
      "<class 'pandas.core.frame.DataFrame'>\n",
      "Int64Index: 183 entries, 1 to 889\n",
      "Data columns (total 10 columns):\n",
      " #   Column         Non-Null Count  Dtype  \n",
      "---  ------         --------------  -----  \n",
      " 0   Survived       183 non-null    int64  \n",
      " 1   Pclass         183 non-null    int64  \n",
      " 2   Sex            183 non-null    object \n",
      " 3   Age            183 non-null    float64\n",
      " 4   SibSp          183 non-null    int64  \n",
      " 5   Parch          183 non-null    int64  \n",
      " 6   Fare           183 non-null    float64\n",
      " 7   Cabin          183 non-null    object \n",
      " 8   Embarked       183 non-null    object \n",
      " 9   Survived_cate  183 non-null    object \n",
      "dtypes: float64(2), int64(4), object(4)\n",
      "memory usage: 15.7+ KB\n"
     ]
    }
   ],
   "source": [
    "df_train['Survived_cate']=df_train['Survived']\n",
    "df_train['Survived_cate']=df_train['Survived_cate'].astype('object')\n",
    "complete_data=df_train.dropna()\n",
    "# 排除獨特資料\n",
    "complete_data = complete_data.drop(['Name','Ticket','PassengerId'],axis = 1)\n",
    "# display(complete_data)\n",
    "complete_data.info()"
   ]
  },
  {
   "cell_type": "code",
   "execution_count": 38,
   "metadata": {},
   "outputs": [
    {
     "name": "stdout",
     "output_type": "stream",
     "text": [
      "6 Numeric Features : ['Survived', 'Pclass', 'Age', 'SibSp', 'Parch', 'Fare']\n",
      "\n"
     ]
    }
   ],
   "source": [
    "num_features = []\n",
    "for dtype, feature in zip(complete_data.dtypes, complete_data.columns):\n",
    "    if dtype == 'float64' or dtype == 'int64':\n",
    "        num_features.append(feature)\n",
    "print(f'{len(num_features)} Numeric Features : {num_features}\\n')"
   ]
  },
  {
   "cell_type": "code",
   "execution_count": 39,
   "metadata": {},
   "outputs": [
    {
     "name": "stdout",
     "output_type": "stream",
     "text": [
      "4 category Features : ['Sex', 'Cabin', 'Embarked', 'Survived_cate']\n",
      "\n"
     ]
    }
   ],
   "source": [
    "cat_features = []\n",
    "for dtype, feature in zip(complete_data.dtypes, complete_data.columns):\n",
    "    if dtype == 'object':\n",
    "        cat_features.append(feature)\n",
    "print(f'{len(cat_features)} category Features : {cat_features}\\n')"
   ]
  },
  {
   "cell_type": "code",
   "execution_count": 79,
   "metadata": {},
   "outputs": [
    {
     "data": {
      "text/plain": [
       "1      C\n",
       "3      S\n",
       "6      S\n",
       "10     S\n",
       "11     S\n",
       "21     S\n",
       "23     S\n",
       "27     S\n",
       "52     C\n",
       "54     C\n",
       "62     S\n",
       "66     S\n",
       "75     S\n",
       "88     S\n",
       "92     S\n",
       "96     C\n",
       "97     C\n",
       "102    S\n",
       "110    S\n",
       "118    C\n",
       "123    S\n",
       "124    S\n",
       "136    S\n",
       "137    S\n",
       "139    C\n",
       "148    S\n",
       "151    S\n",
       "170    S\n",
       "174    C\n",
       "177    C\n",
       "183    S\n",
       "193    S\n",
       "194    C\n",
       "195    C\n",
       "205    S\n",
       "209    C\n",
       "215    C\n",
       "218    C\n",
       "224    S\n",
       "230    S\n",
       "245    Q\n",
       "248    S\n",
       "251    S\n",
       "252    S\n",
       "257    S\n",
       "262    S\n",
       "263    S\n",
       "268    S\n",
       "269    S\n",
       "273    C\n",
       "275    S\n",
       "291    C\n",
       "292    C\n",
       "297    S\n",
       "299    C\n",
       "305    S\n",
       "307    C\n",
       "309    C\n",
       "310    C\n",
       "311    C\n",
       "318    S\n",
       "319    C\n",
       "325    C\n",
       "327    S\n",
       "329    C\n",
       "331    S\n",
       "332    S\n",
       "336    S\n",
       "337    C\n",
       "339    S\n",
       "340    S\n",
       "341    S\n",
       "345    S\n",
       "356    S\n",
       "366    C\n",
       "369    C\n",
       "370    C\n",
       "377    C\n",
       "390    S\n",
       "393    C\n",
       "394    S\n",
       "412    Q\n",
       "429    S\n",
       "430    S\n",
       "434    S\n",
       "435    S\n",
       "438    S\n",
       "445    S\n",
       "449    S\n",
       "452    C\n",
       "453    C\n",
       "456    S\n",
       "460    S\n",
       "462    S\n",
       "473    C\n",
       "484    C\n",
       "486    S\n",
       "487    C\n",
       "492    S\n",
       "496    C\n",
       "498    S\n",
       "504    S\n",
       "505    C\n",
       "512    S\n",
       "515    S\n",
       "516    S\n",
       "520    S\n",
       "523    C\n",
       "536    S\n",
       "539    C\n",
       "540    S\n",
       "544    C\n",
       "550    C\n",
       "556    C\n",
       "558    S\n",
       "571    S\n",
       "572    S\n",
       "577    S\n",
       "581    C\n",
       "583    C\n",
       "585    S\n",
       "587    C\n",
       "591    C\n",
       "599    C\n",
       "609    S\n",
       "618    S\n",
       "621    S\n",
       "625    S\n",
       "627    S\n",
       "630    S\n",
       "632    C\n",
       "641    C\n",
       "645    C\n",
       "647    C\n",
       "659    C\n",
       "662    S\n",
       "671    S\n",
       "679    C\n",
       "681    C\n",
       "689    S\n",
       "690    S\n",
       "698    C\n",
       "699    S\n",
       "700    C\n",
       "701    S\n",
       "707    S\n",
       "710    C\n",
       "712    S\n",
       "715    S\n",
       "716    C\n",
       "717    S\n",
       "724    S\n",
       "730    S\n",
       "737    C\n",
       "741    S\n",
       "742    C\n",
       "745    S\n",
       "748    S\n",
       "751    S\n",
       "759    S\n",
       "763    S\n",
       "765    S\n",
       "772    S\n",
       "779    S\n",
       "781    S\n",
       "782    S\n",
       "789    C\n",
       "796    S\n",
       "802    S\n",
       "806    S\n",
       "809    S\n",
       "820    S\n",
       "823    S\n",
       "835    C\n",
       "853    S\n",
       "857    S\n",
       "862    S\n",
       "867    S\n",
       "871    S\n",
       "872    S\n",
       "879    C\n",
       "887    S\n",
       "889    C\n",
       "Name: Embarked, dtype: object"
      ]
     },
     "execution_count": 79,
     "metadata": {},
     "output_type": "execute_result"
    }
   ],
   "source": [
    "x=complete_data[['Pclass', 'Age', 'SibSp', 'Parch', 'Fare','Sex', 'Embarked']]\n",
    "y=complete_data['Survived']\n",
    "# display(x)\n",
    "# display(y)\n",
    "pd.set_option(\"display.max_rows\", 1000)\n",
    "x['Embarked']\n"
   ]
  },
  {
   "cell_type": "code",
   "execution_count": 84,
   "metadata": {},
   "outputs": [],
   "source": [
    "# 先將離散資料轉換成數值，['Sex', 'Embarked']\n",
    "sex_mapping = {'male': 1,'female': 0}\n",
    "complete_data['s1'] = complete_data['Sex'].map(sex_mapping)\n",
    "embarked_mapping = {'C': 0,'S': 1,'Q':2}\n",
    "complete_data['e1'] = complete_data['Embarked'].map(embarked_mapping)\n",
    "x = complete_data[['s1','e1','Pclass', 'Age', 'SibSp', 'Parch', 'Fare']]"
   ]
  },
  {
   "cell_type": "code",
   "execution_count": 85,
   "metadata": {},
   "outputs": [
    {
     "name": "stdout",
     "output_type": "stream",
     "text": [
      "[ True False False False  True False False]\n",
      "[1 3 2 5 1 4 6]\n",
      "['s1', 'SibSp']\n"
     ]
    }
   ],
   "source": [
    "estimator = SVC(kernel=\"linear\")\n",
    "selector = RFE(estimator, n_features_to_select=2, step=1)\n",
    "selector = selector.fit(x, y)\n",
    "# True= selected feature\n",
    "print(selector.support_)\n",
    "#Selected (i.e., estimated best) features are assigned rank 1.\n",
    "ranking=selector.ranking_\n",
    "print(ranking)\n",
    "rfe_feature = x.loc[:,selector.support_].columns.tolist()\n",
    "print(rfe_feature)"
   ]
  },
  {
   "cell_type": "code",
   "execution_count": null,
   "metadata": {},
   "outputs": [],
   "source": []
  }
 ],
 "metadata": {
  "kernelspec": {
   "display_name": "Python 3",
   "language": "python",
   "name": "python3"
  },
  "language_info": {
   "codemirror_mode": {
    "name": "ipython",
    "version": 3
   },
   "file_extension": ".py",
   "mimetype": "text/x-python",
   "name": "python",
   "nbconvert_exporter": "python",
   "pygments_lexer": "ipython3",
   "version": "3.8.5"
  }
 },
 "nbformat": 4,
 "nbformat_minor": 4
}
